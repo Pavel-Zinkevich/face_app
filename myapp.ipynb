{
 "cells": [
  {
   "cell_type": "code",
   "execution_count": 3,
   "id": "d8aa738a",
   "metadata": {},
   "outputs": [],
   "source": [
    "import cv2\n",
    "import insightface\n",
    "import onnxruntime"
   ]
  },
  {
   "cell_type": "code",
   "execution_count": 4,
   "id": "07b31dcc",
   "metadata": {},
   "outputs": [
    {
     "name": "stdout",
     "output_type": "stream",
     "text": [
      "Applied providers: ['CPUExecutionProvider'], with options: {'CPUExecutionProvider': {}}\n",
      "find model: /Users/pavelzinkevich/.insightface/models/buffalo_l/1k3d68.onnx landmark_3d_68 ['None', 3, 192, 192] 0.0 1.0\n",
      "Applied providers: ['CPUExecutionProvider'], with options: {'CPUExecutionProvider': {}}\n",
      "find model: /Users/pavelzinkevich/.insightface/models/buffalo_l/2d106det.onnx landmark_2d_106 ['None', 3, 192, 192] 0.0 1.0\n",
      "Applied providers: ['CPUExecutionProvider'], with options: {'CPUExecutionProvider': {}}\n",
      "find model: /Users/pavelzinkevich/.insightface/models/buffalo_l/det_10g.onnx detection [1, 3, '?', '?'] 127.5 128.0\n",
      "Applied providers: ['CPUExecutionProvider'], with options: {'CPUExecutionProvider': {}}\n",
      "find model: /Users/pavelzinkevich/.insightface/models/buffalo_l/genderage.onnx genderage ['None', 3, 96, 96] 0.0 1.0\n",
      "Applied providers: ['CPUExecutionProvider'], with options: {'CPUExecutionProvider': {}}\n",
      "find model: /Users/pavelzinkevich/.insightface/models/buffalo_l/w600k_r50.onnx recognition ['None', 3, 112, 112] 127.5 127.5\n",
      "set det-size: (320, 320)\n"
     ]
    }
   ],
   "source": [
    "import cv2\n",
    "import numpy as np\n",
    "import insightface\n",
    "from insightface.app import FaceAnalysis\n",
    "\n",
    "# Инициализация модели для CPU\n",
    "app = FaceAnalysis(name='buffalo_l', providers=['CPUExecutionProvider'])\n",
    "app.prepare(ctx_id=0, det_size=(320, 320))"
   ]
  },
  {
   "cell_type": "code",
   "execution_count": 5,
   "id": "02a09a08",
   "metadata": {},
   "outputs": [],
   "source": [
    "# cap = cv2.VideoCapture(0)\n",
    "\n",
    "# while True:\n",
    "#     ret, frame = cap.read()\n",
    "#     if not ret:\n",
    "#         break\n",
    "\n",
    "#     # Получаем лица и лендмарки\n",
    "#     faces = app.get(frame)\n",
    "#     for face in faces:\n",
    "#         # Рисуем bounding box\n",
    "#         bbox = face.bbox.astype(int)\n",
    "#         cv2.rectangle(frame, (bbox[0], bbox[1]), (bbox[2], bbox[3]), (0, 255, 0), 2)\n",
    "\n",
    "#         # Рисуем лендмарки лица (106 точек)\n",
    "#         for x, y in face.landmark_2d_106:\n",
    "#             cv2.circle(frame, (int(x), int(y)), 1, (0, 0, 255), -1)\n",
    "\n",
    "#     cv2.imshow(\"Face Mesh (InsightFace)\", frame)\n",
    "\n",
    "#     # Выход по ESC\n",
    "#     if cv2.waitKey(1) & 0xFF == 27:\n",
    "#         break\n",
    "\n",
    "# cap.release()\n",
    "# cv2.destroyAllWindows()\n"
   ]
  },
  {
   "cell_type": "code",
   "execution_count": 6,
   "id": "0bd96f6e",
   "metadata": {},
   "outputs": [
    {
     "name": "stderr",
     "output_type": "stream",
     "text": [
      "/Users/pavelzinkevich/Desktop/programs/faceapp/venv/lib/python3.13/site-packages/tqdm/auto.py:21: TqdmWarning: IProgress not found. Please update jupyter and ipywidgets. See https://ipywidgets.readthedocs.io/en/stable/user_install.html\n",
      "  from .autonotebook import tqdm as notebook_tqdm\n"
     ]
    },
    {
     "name": "stdout",
     "output_type": "stream",
     "text": [
      "Path to dataset files: /Users/pavelzinkevich/.cache/kagglehub/datasets/samithsachidanandan/human-face-emotions/versions/2\n"
     ]
    }
   ],
   "source": [
    "import kagglehub\n",
    "\n",
    "# Download latest version\n",
    "path = kagglehub.dataset_download(\"samithsachidanandan/human-face-emotions\")\n",
    "\n",
    "print(\"Path to dataset files:\", path)"
   ]
  },
  {
   "cell_type": "code",
   "execution_count": 7,
   "id": "449968a9",
   "metadata": {},
   "outputs": [],
   "source": [
    "kaggle_path = \"/Users/pavelzinkevich/.cache/kagglehub/datasets/samithsachidanandan/human-face-emotions/versions/2/Data\""
   ]
  },
  {
   "cell_type": "code",
   "execution_count": 8,
   "id": "1301d0b5",
   "metadata": {},
   "outputs": [
    {
     "name": "stdout",
     "output_type": "stream",
     "text": [
      "Файлы в датасете: ['Happy', 'Sad', 'Fear', 'Angry', 'Suprise']\n"
     ]
    }
   ],
   "source": [
    "import os\n",
    "\n",
    "# Посмотреть файлы в скачанной папке\n",
    "files = os.listdir(kaggle_path)\n",
    "print(\"Файлы в датасете:\", files)"
   ]
  },
  {
   "cell_type": "code",
   "execution_count": 9,
   "id": "3b5efc99",
   "metadata": {},
   "outputs": [
    {
     "name": "stdout",
     "output_type": "stream",
     "text": [
      "Файл в датасете: 973347339.png\n"
     ]
    }
   ],
   "source": [
    "import os\n",
    "\n",
    "# Посмотреть файлы в скачанной папке\n",
    "files = os.listdir(kaggle_path+\"/Happy\")\n",
    "print(\"Файл в датасете:\", files[0])"
   ]
  },
  {
   "cell_type": "code",
   "execution_count": 19,
   "id": "200437ab",
   "metadata": {},
   "outputs": [
    {
     "name": "stdout",
     "output_type": "stream",
     "text": [
      "Найдено лиц: 1\n"
     ]
    },
    {
     "data": {
      "image/png": "[encoded data removed]",
      "text/plain": [
       "<Figure size 1200x500 with 2 Axes>"
      ]
     },
     "metadata": {},
     "output_type": "display_data"
    }
   ],
   "source": [
    "from PIL import Image\n",
    "import matplotlib.pyplot as plt\n",
    "if files:\n",
    "    first_image_path = os.path.join(kaggle_path+\"/Happy\", files[0])\n",
    "    # img = Image.open(first_iamge_path)\n",
    "    # img.show()\n",
    "    img = cv2.imread(first_image_path)\n",
    "    faces = app.get(img) \n",
    "        # Отрисовка результатов\n",
    "    result_img = img.copy()\n",
    "    for face in faces:\n",
    "        # Bounding box\n",
    "        bbox = face.bbox.astype(int)\n",
    "        cv2.rectangle(result_img, (bbox[0], bbox[1]), (bbox[2], bbox[3]), (0, 255, 0), 2)\n",
    "        \n",
    "        # Лендмарки\n",
    "        for x, y in face.landmark_2d_106:\n",
    "            cv2.circle(result_img, (int(x), int(y)), 1, (0, 0, 255), -1)\n",
    "    plt.figure(figsize=(12, 5))\n",
    "    plt.subplot(1, 2, 1)\n",
    "    plt.imshow(img)\n",
    "    plt.axis('off')\n",
    "    plt.title(f\"Happy: {files[0]}\")\n",
    "    print(f\"Найдено лиц: {len(faces)}\")\n",
    "\n",
    "    plt.subplot(1, 2, 2)\n",
    "    plt.axis('off')\n",
    "    plt.imshow(cv2.cvtColor(result_img, cv2.COLOR_BGR2RGB))\n",
    "    plt.tight_layout()\n",
    "\n",
    "    # Показать результат\n",
    "    cv2.imshow(\"Detected Faces\", img)\n",
    "    "
   ]
  }
 ],
 "metadata": {
  "kernelspec": {
   "display_name": "venv",
   "language": "python",
   "name": "python3"
  },
  "language_info": {
   "codemirror_mode": {
    "name": "ipython",
    "version": 3
   },
   "file_extension": ".py",
   "mimetype": "text/x-python",
   "name": "python",
   "nbconvert_exporter": "python",
   "pygments_lexer": "ipython3",
   "version": "3.13.9"
  }
 },
 "nbformat": 4,
 "nbformat_minor": 5
}
